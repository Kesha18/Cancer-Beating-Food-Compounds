{
  "nbformat": 4,
  "nbformat_minor": 0,
  "metadata": {
    "colab": {
      "provenance": []
    },
    "kernelspec": {
      "name": "python3",
      "display_name": "Python 3"
    },
    "language_info": {
      "name": "python"
    }
  },
  "cells": [
    {
      "cell_type": "code",
      "execution_count": 85,
      "metadata": {
        "colab": {
          "base_uri": "https://localhost:8080/"
        },
        "id": "uUfQGjI6kADz",
        "outputId": "a7be2344-e848-4b87-fe22-0dd9d6f95400"
      },
      "outputs": [
        {
          "output_type": "stream",
          "name": "stdout",
          "text": [
            "Looking in indexes: https://pypi.org/simple, https://us-python.pkg.dev/colab-wheels/public/simple/\n",
            "Requirement already satisfied: rdkit in /usr/local/lib/python3.8/dist-packages (2022.9.3)\n",
            "Requirement already satisfied: Pillow in /usr/local/lib/python3.8/dist-packages (from rdkit) (7.1.2)\n",
            "Requirement already satisfied: numpy in /usr/local/lib/python3.8/dist-packages (from rdkit) (1.21.6)\n"
          ]
        }
      ],
      "source": [
        "!pip install rdkit rdkit;\n",
        "\n"
      ]
    },
    {
      "cell_type": "code",
      "source": [
        "!pip install git+https://github.com/samoturk/mol2vec"
      ],
      "metadata": {
        "colab": {
          "base_uri": "https://localhost:8080/"
        },
        "id": "lWTRYKmTkeyP",
        "outputId": "08751110-c585-4c86-aec5-3cc0271a6f5f"
      },
      "execution_count": 86,
      "outputs": [
        {
          "output_type": "stream",
          "name": "stdout",
          "text": [
            "Looking in indexes: https://pypi.org/simple, https://us-python.pkg.dev/colab-wheels/public/simple/\n",
            "Collecting git+https://github.com/samoturk/mol2vec\n",
            "  Cloning https://github.com/samoturk/mol2vec to /tmp/pip-req-build-ryob9m13\n",
            "  Running command git clone -q https://github.com/samoturk/mol2vec /tmp/pip-req-build-ryob9m13\n",
            "Requirement already satisfied: numpy in /usr/local/lib/python3.8/dist-packages (from mol2vec==0.1) (1.21.6)\n",
            "Requirement already satisfied: gensim in /usr/local/lib/python3.8/dist-packages (from mol2vec==0.1) (3.6.0)\n",
            "Requirement already satisfied: tqdm in /usr/local/lib/python3.8/dist-packages (from mol2vec==0.1) (4.64.1)\n",
            "Requirement already satisfied: joblib in /usr/local/lib/python3.8/dist-packages (from mol2vec==0.1) (1.2.0)\n",
            "Requirement already satisfied: pandas in /usr/local/lib/python3.8/dist-packages (from mol2vec==0.1) (1.3.5)\n",
            "Requirement already satisfied: matplotlib in /usr/local/lib/python3.8/dist-packages (from mol2vec==0.1) (3.2.2)\n",
            "Requirement already satisfied: IPython in /usr/local/lib/python3.8/dist-packages (from mol2vec==0.1) (7.9.0)\n",
            "Requirement already satisfied: seaborn in /usr/local/lib/python3.8/dist-packages (from mol2vec==0.1) (0.11.2)\n",
            "Requirement already satisfied: scipy>=0.18.1 in /usr/local/lib/python3.8/dist-packages (from gensim->mol2vec==0.1) (1.7.3)\n",
            "Requirement already satisfied: six>=1.5.0 in /usr/local/lib/python3.8/dist-packages (from gensim->mol2vec==0.1) (1.15.0)\n",
            "Requirement already satisfied: smart-open>=1.2.1 in /usr/local/lib/python3.8/dist-packages (from gensim->mol2vec==0.1) (5.2.1)\n",
            "Requirement already satisfied: jedi>=0.10 in /usr/local/lib/python3.8/dist-packages (from IPython->mol2vec==0.1) (0.18.2)\n",
            "Requirement already satisfied: traitlets>=4.2 in /usr/local/lib/python3.8/dist-packages (from IPython->mol2vec==0.1) (5.6.0)\n",
            "Requirement already satisfied: pygments in /usr/local/lib/python3.8/dist-packages (from IPython->mol2vec==0.1) (2.6.1)\n",
            "Requirement already satisfied: backcall in /usr/local/lib/python3.8/dist-packages (from IPython->mol2vec==0.1) (0.2.0)\n",
            "Requirement already satisfied: prompt-toolkit<2.1.0,>=2.0.0 in /usr/local/lib/python3.8/dist-packages (from IPython->mol2vec==0.1) (2.0.10)\n",
            "Requirement already satisfied: setuptools>=18.5 in /usr/local/lib/python3.8/dist-packages (from IPython->mol2vec==0.1) (57.4.0)\n",
            "Requirement already satisfied: pickleshare in /usr/local/lib/python3.8/dist-packages (from IPython->mol2vec==0.1) (0.7.5)\n",
            "Requirement already satisfied: pexpect in /usr/local/lib/python3.8/dist-packages (from IPython->mol2vec==0.1) (4.8.0)\n",
            "Requirement already satisfied: decorator in /usr/local/lib/python3.8/dist-packages (from IPython->mol2vec==0.1) (4.4.2)\n",
            "Requirement already satisfied: parso<0.9.0,>=0.8.0 in /usr/local/lib/python3.8/dist-packages (from jedi>=0.10->IPython->mol2vec==0.1) (0.8.3)\n",
            "Requirement already satisfied: wcwidth in /usr/local/lib/python3.8/dist-packages (from prompt-toolkit<2.1.0,>=2.0.0->IPython->mol2vec==0.1) (0.2.5)\n",
            "Requirement already satisfied: python-dateutil>=2.1 in /usr/local/lib/python3.8/dist-packages (from matplotlib->mol2vec==0.1) (2.8.2)\n",
            "Requirement already satisfied: pyparsing!=2.0.4,!=2.1.2,!=2.1.6,>=2.0.1 in /usr/local/lib/python3.8/dist-packages (from matplotlib->mol2vec==0.1) (3.0.9)\n",
            "Requirement already satisfied: kiwisolver>=1.0.1 in /usr/local/lib/python3.8/dist-packages (from matplotlib->mol2vec==0.1) (1.4.4)\n",
            "Requirement already satisfied: cycler>=0.10 in /usr/local/lib/python3.8/dist-packages (from matplotlib->mol2vec==0.1) (0.11.0)\n",
            "Requirement already satisfied: pytz>=2017.3 in /usr/local/lib/python3.8/dist-packages (from pandas->mol2vec==0.1) (2022.6)\n",
            "Requirement already satisfied: ptyprocess>=0.5 in /usr/local/lib/python3.8/dist-packages (from pexpect->IPython->mol2vec==0.1) (0.7.0)\n"
          ]
        }
      ]
    },
    {
      "cell_type": "code",
      "source": [
        "# import rdkit/mol2vec/word2vec \n",
        "from rdkit import Chem\n",
        "from mol2vec.features import mol2alt_sentence, MolSentence, DfVec, sentences2vec\n",
        "from gensim.models import word2vec\n",
        "from rdkit import Chem\n",
        "from rdkit.Chem import Descriptors\n",
        "\n",
        "# import numpy/pandas \n",
        "import numpy as np\n",
        "import pandas as pd\n",
        "import matplotlib.pyplot as plt\n",
        "from sklearn.linear_model import LogisticRegression\n",
        "from sklearn.ensemble import RandomForestClassifier\n",
        "from sklearn.preprocessing import StandardScaler\n",
        "from sklearn.svm import LinearSVC\n",
        "from sklearn.metrics import accuracy_score"
      ],
      "metadata": {
        "id": "Ip_HUQhDke04"
      },
      "execution_count": 87,
      "outputs": []
    },
    {
      "cell_type": "code",
      "source": [
        "train_df = pd.read_csv('Smiles.csv')\n",
        "test_df = pd.read_csv(\"test.csv\")"
      ],
      "metadata": {
        "id": "OWG_KwR9ke3a"
      },
      "execution_count": 88,
      "outputs": []
    },
    {
      "cell_type": "code",
      "source": [
        "#checking for null values and dropping them\n",
        "NoValue_train = train_df[ (train_df['Smiles'] == 'Did not work') ].index\n",
        "train_df.drop(NoValue_train , inplace=True)\n",
        "\n",
        "NoValues_test = test_df[ (test_df['Smiles'] == 'Did not work') ].index\n",
        "test_df.drop(NoValues_test , inplace=True)"
      ],
      "metadata": {
        "id": "w4wBAR1hke50"
      },
      "execution_count": 89,
      "outputs": []
    },
    {
      "cell_type": "code",
      "source": [
        "print(\"creating mol from smiles\")\n",
        "train_df['mol'] = train_df['Smiles'].apply(lambda x: Chem.MolFromSmiles(x))\n",
        "test_df['mol'] = test_df['Smiles'].apply(lambda x: Chem.MolFromSmiles(x)) "
      ],
      "metadata": {
        "colab": {
          "base_uri": "https://localhost:8080/"
        },
        "id": "347Db72pke9M",
        "outputId": "6c64ec2d-ca20-4de0-d9ed-e5acb44b4a09"
      },
      "execution_count": 90,
      "outputs": [
        {
          "output_type": "stream",
          "name": "stdout",
          "text": [
            "creating mol from smiles\n"
          ]
        }
      ]
    },
    {
      "cell_type": "code",
      "source": [
        "#checking for null\n",
        "train_df['mol'].isna().sum()\n"
      ],
      "metadata": {
        "colab": {
          "base_uri": "https://localhost:8080/"
        },
        "id": "4hbgPRiDke-w",
        "outputId": "b0c1951e-7efc-4b1a-f1a7-907961667a35"
      },
      "execution_count": 91,
      "outputs": [
        {
          "output_type": "execute_result",
          "data": {
            "text/plain": [
              "5"
            ]
          },
          "metadata": {},
          "execution_count": 91
        }
      ]
    },
    {
      "cell_type": "code",
      "source": [
        "\n",
        "#checking for null\n",
        "test_df['mol'].isna().sum()"
      ],
      "metadata": {
        "colab": {
          "base_uri": "https://localhost:8080/"
        },
        "id": "rFJB2__xkfBC",
        "outputId": "b9e6e229-a3a0-477d-a86b-205d414532b4"
      },
      "execution_count": 92,
      "outputs": [
        {
          "output_type": "execute_result",
          "data": {
            "text/plain": [
              "4"
            ]
          },
          "metadata": {},
          "execution_count": 92
        }
      ]
    },
    {
      "cell_type": "code",
      "source": [
        "train_df['mol'].replace('', np.nan, inplace=True)\n",
        "test_df['mol'].replace('', np.nan, inplace=True)"
      ],
      "metadata": {
        "id": "UoQad3pskfDQ"
      },
      "execution_count": 93,
      "outputs": []
    },
    {
      "cell_type": "code",
      "source": [
        "train_df.dropna(subset=['mol'], inplace=True)\n",
        "test_df.dropna(subset=['mol'], inplace=True)"
      ],
      "metadata": {
        "id": "Qy4psZqCkfHs"
      },
      "execution_count": 94,
      "outputs": []
    },
    {
      "cell_type": "code",
      "source": [
        "print(\"generating sentence from molecules structure \")\n",
        "\n",
        "train_df['sentence'] = train_df.apply(lambda x: MolSentence(mol2alt_sentence(x['mol'], radius=1)), axis=1)\n",
        "\n",
        "test_df['sentence'] = test_df.apply(lambda x: MolSentence(mol2alt_sentence(x['mol'], radius=1)), axis=1)"
      ],
      "metadata": {
        "colab": {
          "base_uri": "https://localhost:8080/"
        },
        "id": "e85m0prLkfJ_",
        "outputId": "83eb5daa-f07f-4856-ce45-16f9bdb67979"
      },
      "execution_count": 95,
      "outputs": [
        {
          "output_type": "stream",
          "name": "stdout",
          "text": [
            "generating sentence from molecules structure \n"
          ]
        }
      ]
    },
    {
      "cell_type": "code",
      "source": [
        "#Loading pre-trained model via word2vec\n",
        "from gensim.models import word2vec\n",
        "model = word2vec.Word2Vec.load('model_300dim.pkl')"
      ],
      "metadata": {
        "id": "5ishop5IkfNT"
      },
      "execution_count": 96,
      "outputs": []
    },
    {
      "cell_type": "code",
      "source": [
        "from pandas.core.algorithms import mode\n",
        "print(\"Create embedding from sentence\")\n",
        "train_df['embedding'] = [DfVec(x) for x in sentences2vec(train_df['sentence'], model, unseen ='UNK')]\n",
        "test_df['embedding'] = [DfVec(x) for x in sentences2vec(test_df['sentence'], model, unseen ='UNK')]"
      ],
      "metadata": {
        "colab": {
          "base_uri": "https://localhost:8080/"
        },
        "id": "qcnfRCZGnQo2",
        "outputId": "6a303736-dff1-4d0d-9806-565456e0392c"
      },
      "execution_count": 97,
      "outputs": [
        {
          "output_type": "stream",
          "name": "stdout",
          "text": [
            "Create embedding from sentence\n"
          ]
        }
      ]
    },
    {
      "cell_type": "code",
      "source": [
        "X_train = np.array([x.vec for x in train_df['embedding']])\n",
        "X_test_final = np.array([x.vec for x in test_df['embedding']]) "
      ],
      "metadata": {
        "id": "k7cYYYOynQrY"
      },
      "execution_count": 98,
      "outputs": []
    },
    {
      "cell_type": "code",
      "source": [
        "Y_train = train_df[\"Label\"]\n",
        "\n",
        "X_train.shape, Y_train.shape, X_test_final.shape"
      ],
      "metadata": {
        "colab": {
          "base_uri": "https://localhost:8080/"
        },
        "id": "fPTlz27PnQt4",
        "outputId": "2a1f6f7d-8804-4acc-cc32-1752681b6432"
      },
      "execution_count": 99,
      "outputs": [
        {
          "output_type": "execute_result",
          "data": {
            "text/plain": [
              "((1686, 100), (1686,), (5846, 100))"
            ]
          },
          "metadata": {},
          "execution_count": 99
        }
      ]
    },
    {
      "cell_type": "code",
      "source": [
        "# Using ADASYN generating synthetic data\n",
        "from imblearn.over_sampling import ADASYN\n",
        "from collections import Counter\n",
        "counter = Counter(Y_train)\n",
        "print(\"Before ADASYN \",counter)\n",
        "\n",
        "ada = ADASYN(random_state=150)\n",
        "X_train_ada,y_train_ada = ada.fit_resample(X_train, Y_train)\n",
        "counter = Counter(y_train_ada)\n",
        "print(\"After ADASYN \",counter)"
      ],
      "metadata": {
        "colab": {
          "base_uri": "https://localhost:8080/"
        },
        "id": "qM6iyUA0nQwq",
        "outputId": "be3548bb-8b5d-45a6-efee-f51db0f1bbed"
      },
      "execution_count": 100,
      "outputs": [
        {
          "output_type": "stream",
          "name": "stdout",
          "text": [
            "Before ADASYN  Counter({0: 1533, 1: 153})\n",
            "After ADASYN  Counter({1: 1543, 0: 1533})\n"
          ]
        }
      ]
    },
    {
      "cell_type": "code",
      "source": [
        "#splitting into train and test\n",
        "from sklearn.model_selection import train_test_split\n",
        "X_train, X_test, y_train, y_test = train_test_split(X_train_ada, y_train_ada, test_size=0.2, random_state=1)"
      ],
      "metadata": {
        "id": "mHU5lhA4y_D7"
      },
      "execution_count": 101,
      "outputs": []
    },
    {
      "cell_type": "code",
      "source": [
        "from sklearn.linear_model import LogisticRegression\n",
        "from sklearn.ensemble import RandomForestClassifier\n",
        "from sklearn.preprocessing import StandardScaler\n",
        "from sklearn.svm import LinearSVC\n",
        "from sklearn.metrics import accuracy_score, f1_score\n",
        "\n",
        "X_train = StandardScaler().fit_transform(X_train)\n",
        "X_test = StandardScaler().fit_transform(X_test)\n",
        "\n",
        "\n",
        "rf_train = RandomForestClassifier(max_depth=2, random_state=22)\n",
        "lr_train = LogisticRegression(C=5,solver='lbfgs', max_iter=5000, random_state=12)\n",
        "svc = LinearSVC(random_state=12)\n",
        "rf_train.fit(X_train, y_train)\n",
        "lr_train.fit(X_train,y_train)\n",
        "svc.fit(X_train, y_train)\n",
        "\n",
        "prediction_rf = rf_train.predict(X_test)\n",
        "predict_lr = lr_train.predict(X_test)\n",
        "predcit_svc = svc.predict(X_test)\n",
        "\n",
        "\n",
        "print(\"Random Forest\",round(accuracy_score(y_test, prediction_rf) * 100, 2))\n",
        "print(\"LR\",round(accuracy_score(y_test, predict_lr)* 100, 2))\n",
        "print(\"SVM\",round(accuracy_score(y_test, predcit_svc) * 100, 2))\n"
      ],
      "metadata": {
        "colab": {
          "base_uri": "https://localhost:8080/"
        },
        "id": "afSI6-FmzAfY",
        "outputId": "3da95d4b-4d59-434f-b6ff-b0b3ab2a42e3"
      },
      "execution_count": 102,
      "outputs": [
        {
          "output_type": "stream",
          "name": "stdout",
          "text": [
            "Random Forest 74.51\n",
            "LR 81.33\n",
            "SVM 81.01\n"
          ]
        },
        {
          "output_type": "stream",
          "name": "stderr",
          "text": [
            "/usr/local/lib/python3.8/dist-packages/sklearn/svm/_base.py:1206: ConvergenceWarning: Liblinear failed to converge, increase the number of iterations.\n",
            "  warnings.warn(\n"
          ]
        }
      ]
    },
    {
      "cell_type": "code",
      "source": [
        "#F1 score\n",
        "from sklearn.metrics import accuracy_score,  f1_score\n",
        "print('F1 Score Random-Forest: %.3f' % f1_score(y_test, prediction_rf))\n",
        "print('F1 Score Logistic Regression: %.3f' % f1_score(y_test, predict_lr))\n",
        "print('F1 Score Linear SVM: %.3f' % f1_score(y_test, predcit_svc))\n"
      ],
      "metadata": {
        "colab": {
          "base_uri": "https://localhost:8080/"
        },
        "id": "-39Thz_sSMyT",
        "outputId": "2f3c3abb-83d8-47fd-ef40-5d2b65feb55c"
      },
      "execution_count": 103,
      "outputs": [
        {
          "output_type": "stream",
          "name": "stdout",
          "text": [
            "F1 Score Random-Forest: 0.721\n",
            "F1 Score Logistic Regression: 0.823\n",
            "F1 Score Linear SVM: 0.822\n"
          ]
        }
      ]
    },
    {
      "cell_type": "code",
      "source": [
        "#final Predictions\n",
        "predict_lr_final = lr_train.predict(X_test_final)"
      ],
      "metadata": {
        "id": "2GzDN6QjzBEV"
      },
      "execution_count": 104,
      "outputs": []
    },
    {
      "cell_type": "code",
      "source": [
        "test_df['Labels'] = predict_lr_final"
      ],
      "metadata": {
        "id": "hYSmpByJzBh2"
      },
      "execution_count": 107,
      "outputs": []
    },
    {
      "cell_type": "code",
      "source": [
        "#saving prediction to CSV\n",
        "test_df.to_csv('Final_LR_pred.csv')"
      ],
      "metadata": {
        "id": "8_vm8Ndna0kI"
      },
      "execution_count": null,
      "outputs": []
    },
    {
      "cell_type": "code",
      "source": [],
      "metadata": {
        "id": "67wkZAxjerCP"
      },
      "execution_count": null,
      "outputs": []
    }
  ]
}