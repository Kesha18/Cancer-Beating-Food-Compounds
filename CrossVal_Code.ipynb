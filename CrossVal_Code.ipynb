{
  "nbformat": 4,
  "nbformat_minor": 0,
  "metadata": {
    "colab": {
      "provenance": []
    },
    "kernelspec": {
      "name": "python3",
      "display_name": "Python 3"
    },
    "language_info": {
      "name": "python"
    }
  },
  "cells": [
    {
      "cell_type": "code",
      "execution_count": 101,
      "metadata": {
        "colab": {
          "base_uri": "https://localhost:8080/"
        },
        "id": "uUfQGjI6kADz",
        "outputId": "b8ef9fc7-0f4a-4b8c-f23a-f5aec9a7b209"
      },
      "outputs": [
        {
          "output_type": "stream",
          "name": "stdout",
          "text": [
            "Looking in indexes: https://pypi.org/simple, https://us-python.pkg.dev/colab-wheels/public/simple/\n",
            "Requirement already satisfied: rdkit in /usr/local/lib/python3.8/dist-packages (2022.9.3)\n",
            "Requirement already satisfied: numpy in /usr/local/lib/python3.8/dist-packages (from rdkit) (1.21.6)\n",
            "Requirement already satisfied: Pillow in /usr/local/lib/python3.8/dist-packages (from rdkit) (7.1.2)\n"
          ]
        }
      ],
      "source": [
        "!pip install rdkit rdkit;\n",
        "\n"
      ]
    },
    {
      "cell_type": "code",
      "source": [
        "!pip install git+https://github.com/samoturk/mol2vec"
      ],
      "metadata": {
        "colab": {
          "base_uri": "https://localhost:8080/"
        },
        "id": "lWTRYKmTkeyP",
        "outputId": "0184caca-84a3-42e3-dcb4-f5100de8c50a"
      },
      "execution_count": 102,
      "outputs": [
        {
          "output_type": "stream",
          "name": "stdout",
          "text": [
            "Looking in indexes: https://pypi.org/simple, https://us-python.pkg.dev/colab-wheels/public/simple/\n",
            "Collecting git+https://github.com/samoturk/mol2vec\n",
            "  Cloning https://github.com/samoturk/mol2vec to /tmp/pip-req-build-nlye6_9w\n",
            "  Running command git clone -q https://github.com/samoturk/mol2vec /tmp/pip-req-build-nlye6_9w\n"
          ]
        }
      ]
    },
    {
      "cell_type": "code",
      "source": [
        "# import required libraries\n",
        "from rdkit import Chem\n",
        "from mol2vec.features import mol2alt_sentence, MolSentence, DfVec, sentences2vec\n",
        "from gensim.models import word2vec\n",
        "from rdkit.Chem import Descriptors\n",
        "import numpy as np\n",
        "import pandas as pd\n",
        "import matplotlib.pyplot as plt\n",
        "from sklearn.preprocessing import StandardScaler\n",
        "from sklearn.linear_model import LogisticRegression\n",
        "from sklearn.ensemble import RandomForestClassifier\n",
        "from sklearn.svm import LinearSVC\n",
        "from sklearn.model_selection import cross_validate\n",
        "from sklearn.metrics import accuracy_score\n",
        "from numpy import mean\n",
        "from numpy import std\n",
        "from sklearn.model_selection import KFold"
      ],
      "metadata": {
        "id": "Ip_HUQhDke04"
      },
      "execution_count": 105,
      "outputs": []
    },
    {
      "cell_type": "code",
      "source": [
        "train_df = pd.read_csv('Smiles.csv')\n",
        "test_df = pd.read_csv(\"test.csv\")"
      ],
      "metadata": {
        "id": "OWG_KwR9ke3a"
      },
      "execution_count": 106,
      "outputs": []
    },
    {
      "cell_type": "code",
      "source": [
        "#checking for null values and dropping them\n",
        "NoValue_train = train_df[ (train_df['Smiles'] == 'Did not work') ].index\n",
        "train_df.drop(NoValue_train , inplace=True)\n",
        "\n",
        "NoValues_test = test_df[ (test_df['Smiles'] == 'Did not work') ].index\n",
        "test_df.drop(NoValues_test , inplace=True)"
      ],
      "metadata": {
        "id": "w4wBAR1hke50"
      },
      "execution_count": 107,
      "outputs": []
    },
    {
      "cell_type": "code",
      "source": [
        "print(\"creating mol from smiles\")\n",
        "train_df['mol'] = train_df['Smiles'].apply(lambda x: Chem.MolFromSmiles(x)) \n",
        "test_df['mol'] = test_df['Smiles'].apply(lambda x: Chem.MolFromSmiles(x)) "
      ],
      "metadata": {
        "colab": {
          "base_uri": "https://localhost:8080/"
        },
        "id": "347Db72pke9M",
        "outputId": "41822b25-138b-4cee-d915-70980b7e839f"
      },
      "execution_count": 108,
      "outputs": [
        {
          "output_type": "stream",
          "name": "stdout",
          "text": [
            "creating mol from smiles\n"
          ]
        }
      ]
    },
    {
      "cell_type": "code",
      "source": [
        "#checking for null\n",
        "train_df['mol'].isna().sum()\n"
      ],
      "metadata": {
        "colab": {
          "base_uri": "https://localhost:8080/"
        },
        "id": "4hbgPRiDke-w",
        "outputId": "f123c65b-a95a-4e5e-bd86-c866e29e8691"
      },
      "execution_count": 109,
      "outputs": [
        {
          "output_type": "execute_result",
          "data": {
            "text/plain": [
              "5"
            ]
          },
          "metadata": {},
          "execution_count": 109
        }
      ]
    },
    {
      "cell_type": "code",
      "source": [
        "#checking for null\n",
        "test_df['mol'].isna().sum()"
      ],
      "metadata": {
        "colab": {
          "base_uri": "https://localhost:8080/"
        },
        "id": "rFJB2__xkfBC",
        "outputId": "8364e9cd-5d63-4684-f170-6c66ac99e03d"
      },
      "execution_count": 110,
      "outputs": [
        {
          "output_type": "execute_result",
          "data": {
            "text/plain": [
              "4"
            ]
          },
          "metadata": {},
          "execution_count": 110
        }
      ]
    },
    {
      "cell_type": "code",
      "source": [
        "train_df['mol'].replace('', np.nan, inplace=True)\n",
        "test_df['mol'].replace('', np.nan, inplace=True)"
      ],
      "metadata": {
        "id": "UoQad3pskfDQ"
      },
      "execution_count": 111,
      "outputs": []
    },
    {
      "cell_type": "code",
      "source": [
        "train_df.dropna(subset=['mol'], inplace=True)\n",
        "test_df.dropna(subset=['mol'], inplace=True)"
      ],
      "metadata": {
        "id": "Qy4psZqCkfHs"
      },
      "execution_count": 112,
      "outputs": []
    },
    {
      "cell_type": "code",
      "source": [
        "print(\"generating sentence from molecules  \")\n",
        "\n",
        "train_df['sentence'] = train_df.apply(lambda x: MolSentence(mol2alt_sentence(x['mol'], radius=1)), axis=1)\n",
        "\n",
        "test_df['sentence'] = test_df.apply(lambda x: MolSentence(mol2alt_sentence(x['mol'], radius=1)), axis=1)"
      ],
      "metadata": {
        "colab": {
          "base_uri": "https://localhost:8080/"
        },
        "id": "e85m0prLkfJ_",
        "outputId": "eee4c039-3b24-4c6d-d0bd-6e890f63e5af"
      },
      "execution_count": 113,
      "outputs": [
        {
          "output_type": "stream",
          "name": "stdout",
          "text": [
            "generating sentence from molecules  \n"
          ]
        }
      ]
    },
    {
      "cell_type": "code",
      "source": [
        "#Loading pre-trained word2vec\n",
        "from gensim.models import word2vec\n",
        "model = word2vec.Word2Vec.load('model_300dim.pkl')"
      ],
      "metadata": {
        "id": "5ishop5IkfNT"
      },
      "execution_count": 114,
      "outputs": []
    },
    {
      "cell_type": "code",
      "source": [
        "from pandas.core.algorithms import mode\n",
        "print(\"Create embedding from sentence\")\n",
        "train_df['embedding'] = [DfVec(x) for x in sentences2vec(train_df['sentence'], model, unseen ='UNK')]\n",
        "test_df['embedding'] = [DfVec(x) for x in sentences2vec(test_df['sentence'], model, unseen ='UNK')]"
      ],
      "metadata": {
        "colab": {
          "base_uri": "https://localhost:8080/"
        },
        "id": "qcnfRCZGnQo2",
        "outputId": "da2763b7-02cf-42cc-b7d1-252b2d16b309"
      },
      "execution_count": 115,
      "outputs": [
        {
          "output_type": "stream",
          "name": "stdout",
          "text": [
            "Create embedding from sentence\n"
          ]
        }
      ]
    },
    {
      "cell_type": "code",
      "source": [
        "X_train = np.array([x.vec for x in train_df['embedding']])\n",
        "X_test_final = np.array([x.vec for x in test_df['embedding']]) "
      ],
      "metadata": {
        "id": "k7cYYYOynQrY"
      },
      "execution_count": 116,
      "outputs": []
    },
    {
      "cell_type": "code",
      "source": [
        "\n",
        "Y_train = train_df[\"Label\"]\n",
        "\n",
        "X_train.shape, Y_train.shape, X_test_final.shape"
      ],
      "metadata": {
        "colab": {
          "base_uri": "https://localhost:8080/"
        },
        "id": "fPTlz27PnQt4",
        "outputId": "ab16a689-f7c1-4158-828a-f64f63026648"
      },
      "execution_count": 117,
      "outputs": [
        {
          "output_type": "execute_result",
          "data": {
            "text/plain": [
              "((1686, 100), (1686,), (5846, 100))"
            ]
          },
          "metadata": {},
          "execution_count": 117
        }
      ]
    },
    {
      "cell_type": "code",
      "source": [
        "# Using ADASYN generating synthetic data\n",
        "from imblearn.over_sampling import ADASYN\n",
        "from collections import Counter\n",
        "counter = Counter(Y_train)\n",
        "print(\"before ADASYN\",counter)\n",
        "\n",
        "ada = ADASYN(random_state=150)\n",
        "X_train_ada,y_train_ada = ada.fit_resample(X_train, Y_train)\n",
        "counter = Counter(y_train_ada)\n",
        "print(\"after ADASYN\",counter)"
      ],
      "metadata": {
        "colab": {
          "base_uri": "https://localhost:8080/"
        },
        "id": "qM6iyUA0nQwq",
        "outputId": "e93eeb25-7d67-497b-b20e-261d911c12b0"
      },
      "execution_count": 120,
      "outputs": [
        {
          "output_type": "stream",
          "name": "stdout",
          "text": [
            "before ADASYN Counter({0: 1533, 1: 153})\n",
            "after ADASYN Counter({1: 1543, 0: 1533})\n"
          ]
        }
      ]
    },
    {
      "cell_type": "code",
      "source": [
        "#sacling \n",
        "X_train_ada = StandardScaler().fit_transform(X_train_ada)\n",
        "X_test_final = StandardScaler().fit_transform(X_test_final)\n"
      ],
      "metadata": {
        "id": "mHU5lhA4y_D7"
      },
      "execution_count": 121,
      "outputs": []
    },
    {
      "cell_type": "code",
      "source": [
        "cv = KFold(n_splits=10, random_state=1, shuffle=True)\n",
        "# create model\n",
        "model_LR =  LogisticRegression(C=10, random_state=22)\n",
        "model_RF= RandomForestClassifier(max_depth=2, random_state=22)\n",
        "model_SVM = LinearSVC(random_state=12)\n",
        "# evaluate model\n",
        "metrics = ['accuracy', 'f1']\n",
        "scores_LR = cross_validate(model_LR, X_train_ada, y_train_ada, scoring= metrics, cv=cv, n_jobs=-1)\n",
        "scores_RF = cross_validate(model_RF, X_train_ada, y_train_ada, scoring=metrics , cv=cv, n_jobs=-1)\n",
        "Scores_SVM = cross_validate(model_SVM, X_train_ada, y_train_ada, scoring=metrics, cv=cv, n_jobs=-1)\n",
        "\n",
        "#calculating accuracy and F-1 Score\n",
        "LR_acc = scores_LR['test_accuracy']\n",
        "LRF1_scores = scores_LR['test_f1']\n",
        "RF_acc = scores_RF['test_accuracy']\n",
        "RFF1_scores = scores_RF['test_f1']\n",
        "SVC_acc = Scores_SVM['test_accuracy']\n",
        "SVCF1_scores = Scores_SVM['test_f1']\n",
        "\n",
        "print(\"Mean LR accuracy %0.3f \" % (LR_acc.mean() * 100))\n",
        "print(\"Mean  LR F-1 Score %0.3f\" % (LRF1_scores.mean()))\n",
        "\n",
        "print(\"Mean RF accuracy %0.3f\" % (RF_acc.mean() * 100))\n",
        "print(\"Mean RF F-1 Score %0.3f\" % (RFF1_scores.mean()))\n",
        "\n",
        "print(\"Mean SVM accuracy %0.3f\" % (SVC_acc.mean() * 100))\n",
        "print(\"Mean SVM F-1 Score %0.3f \" % (SVCF1_scores.mean()))\n"
      ],
      "metadata": {
        "id": "QPtQgApH9RhT",
        "colab": {
          "base_uri": "https://localhost:8080/"
        },
        "outputId": "7c70640a-9155-47a4-8560-ef6d12807920"
      },
      "execution_count": 122,
      "outputs": [
        {
          "output_type": "stream",
          "name": "stdout",
          "text": [
            "Mean LR accuracy 81.665 \n",
            "Mean  LR F-1 Score 0.821\n",
            "Mean RF accuracy 71.780\n",
            "Mean RF F-1 Score 0.708\n",
            "Mean SVM accuracy 81.599\n",
            "Mean SVM F-1 Score 0.820 \n"
          ]
        }
      ]
    },
    {
      "cell_type": "code",
      "source": [],
      "metadata": {
        "id": "8_vm8Ndna0kI"
      },
      "execution_count": null,
      "outputs": []
    }
  ]
}